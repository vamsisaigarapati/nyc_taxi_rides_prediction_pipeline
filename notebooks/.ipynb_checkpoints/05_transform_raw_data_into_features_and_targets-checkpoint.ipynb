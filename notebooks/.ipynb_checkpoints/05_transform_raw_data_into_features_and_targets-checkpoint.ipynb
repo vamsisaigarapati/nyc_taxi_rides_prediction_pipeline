{
 "cells": [
  {
   "cell_type": "markdown",
   "id": "6f476cb6-bf4f-4242-9d61-2bb2465f2920",
   "metadata": {},
   "source": [
    "## Steps\n",
    "1. Download all raw data for a given year and month\n",
    "1. For each raw data, apply the filter before saving it\n",
    "1. Transform the saved raw data into TS data\n",
    "1. Convert the ts data into features and targets\n",
    "1. Save the transformed data\n",
    "\n",
    "\n",
    "Main objective is to write utility functions to do all these things so we can reuse them later. "
   ]
  },
  {
   "cell_type": "code",
   "execution_count": 2,
   "id": "6f98128f-2321-4869-9ea9-e1071baaf8c4",
   "metadata": {},
   "outputs": [
    {
     "name": "stdout",
     "output_type": "stream",
     "text": [
      "The autoreload extension is already loaded. To reload it, use:\n",
      "  %reload_ext autoreload\n"
     ]
    }
   ],
   "source": [
    "%load_ext autoreload\n",
    "%autoreload 2"
   ]
  },
  {
   "cell_type": "code",
   "execution_count": 4,
   "id": "74b31479-65d1-4988-8b24-a8865a270e4e",
   "metadata": {},
   "outputs": [],
   "source": [
    "import sys\n",
    "import os\n",
    "\n",
    "# Add the parent directory to the Python path\n",
    "sys.path.append(os.path.abspath(os.path.join(os.getcwd(), \"..\")))\n",
    "\n",
    "# Now you can import from src\n",
    "from src.data_utils import load_and_process_taxi_data"
   ]
  },
  {
   "cell_type": "code",
   "execution_count": null,
   "id": "05f1284a-f013-4a39-971f-f3dec0d49ba9",
   "metadata": {},
   "outputs": [
    {
     "name": "stdout",
     "output_type": "stream",
     "text": [
      "File already exists for 2023-01.\n",
      "Loading data for 2023-01...\n",
      "Total records: 3066766\n",
      "Valid records: 2993140\n",
      "Records dropped: 73626 (2.40%)\n",
      "Successfully processed data for 2023-01.\n",
      "Downloading data for 2023-02...\n",
      "Successfully downloaded data for 2023-02.\n",
      "Loading data for 2023-02...\n",
      "Total records: 2913955\n",
      "Valid records: 2845058\n",
      "Records dropped: 68897 (2.36%)\n",
      "Successfully processed data for 2023-02.\n",
      "Downloading data for 2023-03...\n",
      "Successfully downloaded data for 2023-03.\n",
      "Loading data for 2023-03...\n",
      "Total records: 3403766\n",
      "Valid records: 3331705\n",
      "Records dropped: 72061 (2.12%)\n",
      "Successfully processed data for 2023-03.\n",
      "Downloading data for 2023-04...\n",
      "Successfully downloaded data for 2023-04.\n",
      "Loading data for 2023-04...\n",
      "Total records: 3288250\n",
      "Valid records: 3214922\n",
      "Records dropped: 73328 (2.23%)\n",
      "Successfully processed data for 2023-04.\n",
      "Downloading data for 2023-05...\n"
     ]
    }
   ],
   "source": [
    "rides = load_and_process_taxi_data(year=2023, months=[1, 2, 3, 4, 5])"
   ]
  }
 ],
 "metadata": {
  "kernelspec": {
   "display_name": "Python 3 (ipykernel)",
   "language": "python",
   "name": "python3"
  },
  "language_info": {
   "codemirror_mode": {
    "name": "ipython",
    "version": 3
   },
   "file_extension": ".py",
   "mimetype": "text/x-python",
   "name": "python",
   "nbconvert_exporter": "python",
   "pygments_lexer": "ipython3",
   "version": "3.11.11"
  }
 },
 "nbformat": 4,
 "nbformat_minor": 5
}
